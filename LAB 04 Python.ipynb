{
 "cells": [
  {
   "cell_type": "markdown",
   "metadata": {},
   "source": [
    "### LAB 04"
   ]
  },
  {
   "cell_type": "code",
   "execution_count": 30,
   "metadata": {},
   "outputs": [
    {
     "name": "stdout",
     "output_type": "stream",
     "text": [
      "() <class 'tuple'> \n",
      " ('abc',) <class 'tuple'> \n",
      " ('pqr', 'kgf', 'xyz') <class 'tuple'> \n",
      "\n"
     ]
    }
   ],
   "source": [
    "# WAP To create a tuple.\n",
    "EmptyTuple = ()\n",
    "SingleTuple = 'abc',\n",
    "MultipleTuple = 'pqr', 'kgf', 'xyz'\n",
    "\n",
    "print(EmptyTuple, type(EmptyTuple), '\\n',\n",
    "      SingleTuple, type(SingleTuple), '\\n',\n",
    "      MultipleTuple, type(MultipleTuple), '\\n')"
   ]
  },
  {
   "cell_type": "code",
   "execution_count": 9,
   "metadata": {},
   "outputs": [
    {
     "name": "stdout",
     "output_type": "stream",
     "text": [
      "('xyz', 1, 4.56, ['x', 'y', 'z'], True)\n",
      "xyz type is <class 'str'>\n",
      "1 type is <class 'int'>\n",
      "4.56 type is <class 'float'>\n",
      "['x', 'y', 'z'] type is <class 'list'>\n",
      "True type is <class 'bool'>\n"
     ]
    }
   ],
   "source": [
    "# WAP to create a tuple with different data types.\n",
    "Tuple = ('xyz', 1, 4.56, ['x', 'y', 'z'], True)\n",
    "print(Tuple)\n",
    "\n",
    "for i in Tuple:\n",
    "    print(i, 'type is', type(i))"
   ]
  },
  {
   "cell_type": "code",
   "execution_count": 17,
   "metadata": {},
   "outputs": [
    {
     "name": "stdout",
     "output_type": "stream",
     "text": [
      "3\n"
     ]
    }
   ],
   "source": [
    "# WAP to create a tuple with numbers and print one item.\n",
    "from random import randint\n",
    "Tuple = (1, 3, 5, 5, 7)\n",
    "print(Tuple[randint(0, len(Tuple)-1)])"
   ]
  },
  {
   "cell_type": "code",
   "execution_count": 18,
   "metadata": {},
   "outputs": [
    {
     "name": "stdout",
     "output_type": "stream",
     "text": [
      "x y\n"
     ]
    }
   ],
   "source": [
    "# WAP to unpack a tuple in several variables.\n",
    "Tuple = ('x', 'y')\n",
    "var1, var2 = Tuple\n",
    "print(var1, var2)"
   ]
  },
  {
   "cell_type": "code",
   "execution_count": 21,
   "metadata": {},
   "outputs": [
    {
     "name": "stdout",
     "output_type": "stream",
     "text": [
      "('x', 'y', 'z')\n"
     ]
    }
   ],
   "source": [
    "# WAP to add an item in a tuple.\n",
    "Tuple = ('x', 'y')\n",
    "NewTuple = Tuple + ('z',)\n",
    "\n",
    "print(NewTuple)"
   ]
  },
  {
   "cell_type": "code",
   "execution_count": 22,
   "metadata": {},
   "outputs": [
    {
     "name": "stdout",
     "output_type": "stream",
     "text": [
      "xy\n"
     ]
    }
   ],
   "source": [
    "# WAP to convert a tuple to a string.\n",
    "Tuple = ('x', 'y')\n",
    "String = ''.join(Tuple)\n",
    "print(String)"
   ]
  },
  {
   "cell_type": "code",
   "execution_count": 27,
   "metadata": {},
   "outputs": [
    {
     "name": "stdout",
     "output_type": "stream",
     "text": [
      "('u', 'v', 'w', 'x', 'y', 'z')\n",
      "4th element is x\n",
      "4th element from last is w\n"
     ]
    }
   ],
   "source": [
    "# WAP to get 4th element and 4th element from last of a tuple.\n",
    "Tuple = tuple('uvwxyz')\n",
    "print(Tuple)\n",
    "print('4th element is', Tuple[3])\n",
    "print('4th element from last is', Tuple[-4])"
   ]
  },
  {
   "cell_type": "code",
   "execution_count": 28,
   "metadata": {},
   "outputs": [
    {
     "name": "stdout",
     "output_type": "stream",
     "text": [
      ":\n"
     ]
    }
   ],
   "source": [
    "# WAP to create the colon of a tuple.\n",
    "Tuple = (':',)\n",
    "Colon, = Tuple\n",
    "print(Colon)"
   ]
  },
  {
   "cell_type": "code",
   "execution_count": 31,
   "metadata": {},
   "outputs": [
    {
     "name": "stdout",
     "output_type": "stream",
     "text": [
      "{2, 5}\n"
     ]
    }
   ],
   "source": [
    "# WAP to find the repeated items of a tuple.\n",
    "Tuple = (1, 2, 2, 3, 4, 5, 5)\n",
    "\n",
    "ItemsRepeated = []\n",
    "for i in Tuple:\n",
    "    if Tuple.count(i) > 1:\n",
    "        ItemsRepeated.append(i)\n",
    "print(set(ItemsRepeated))"
   ]
  },
  {
   "cell_type": "code",
   "execution_count": 33,
   "metadata": {},
   "outputs": [
    {
     "name": "stdout",
     "output_type": "stream",
     "text": [
      "4 does not exist in (5, 6, 7, 8, 9)\n",
      "7 exist in (5, 6, 7, 8, 9)\n"
     ]
    }
   ],
   "source": [
    "# WAP to check whether an element exists within a tuple.\n",
    "Tuple = (5, 6, 7, 8, 9)\n",
    "\n",
    "if 2 in Tuple:\n",
    "    print('4 exist in', Tuple)\n",
    "else:\n",
    "    print('4 does not exist in', Tuple)\n",
    "\n",
    "if 6 in Tuple:\n",
    "    print('7 exist in', Tuple)\n",
    "else:\n",
    "    print('7 does not exist in', Tuple)\n"
   ]
  },
  {
   "cell_type": "code",
   "execution_count": 34,
   "metadata": {},
   "outputs": [
    {
     "name": "stdout",
     "output_type": "stream",
     "text": [
      "(1, 2, 3, 4, 5)\n"
     ]
    }
   ],
   "source": [
    "# WAP to convert a list to a tuple.\n",
    "List = [1, 2, 3, 4, 5]\n",
    "Tuple = tuple(List)\n",
    "print(Tuple)"
   ]
  },
  {
   "cell_type": "code",
   "execution_count": 35,
   "metadata": {},
   "outputs": [
    {
     "name": "stdout",
     "output_type": "stream",
     "text": [
      "(1, 2, 4, 5)\n"
     ]
    }
   ],
   "source": [
    "# WAP to remove an item from a tuple.\n",
    "Tuple = (1, 2, 3, 4, 5)\n",
    "NewTuple = Tuple[:Tuple.index(3)] + Tuple[Tuple.index(3)+1:]\n",
    "print(NewTuple)"
   ]
  },
  {
   "cell_type": "code",
   "execution_count": 36,
   "metadata": {},
   "outputs": [
    {
     "name": "stdout",
     "output_type": "stream",
     "text": [
      "Tus\n"
     ]
    }
   ],
   "source": [
    "# WAP to slice a tuple.\n",
    "Name = \"Tushar\"\n",
    "print(Name[:3])"
   ]
  },
  {
   "cell_type": "code",
   "execution_count": 37,
   "metadata": {},
   "outputs": [
    {
     "name": "stdout",
     "output_type": "stream",
     "text": [
      "1\n"
     ]
    }
   ],
   "source": [
    "# WAP to find index of an item of a tuple.\n",
    "Tuple = ('x', 'y', 'z')\n",
    "print(Tuple.index('y'))"
   ]
  },
  {
   "cell_type": "code",
   "execution_count": 38,
   "metadata": {},
   "outputs": [
    {
     "name": "stdout",
     "output_type": "stream",
     "text": [
      "3\n"
     ]
    }
   ],
   "source": [
    "# WAP to find length of a tuple.\n",
    "Tuple = ('x', 'y', 'z')\n",
    "print(len(Tuple))"
   ]
  },
  {
   "cell_type": "code",
   "execution_count": 46,
   "metadata": {},
   "outputs": [
    {
     "name": "stdout",
     "output_type": "stream",
     "text": [
      "('z', 'y', 'x')\n"
     ]
    }
   ],
   "source": [
    "# WAP to reverse a tuple.\n",
    "Tuple = ('x', 'y', 'z')\n",
    "print(Tuple[::-1])"
   ]
  },
  {
   "cell_type": "code",
   "execution_count": null,
   "metadata": {},
   "outputs": [],
   "source": []
  }
 ],
 "metadata": {
  "kernelspec": {
   "display_name": "Python 3",
   "language": "python",
   "name": "python3"
  },
  "language_info": {
   "codemirror_mode": {
    "name": "ipython",
    "version": 3
   },
   "file_extension": ".py",
   "mimetype": "text/x-python",
   "name": "python",
   "nbconvert_exporter": "python",
   "pygments_lexer": "ipython3",
   "version": "3.8.5"
  }
 },
 "nbformat": 4,
 "nbformat_minor": 4
}
