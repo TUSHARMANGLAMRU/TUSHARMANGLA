{
 "cells": [
  {
   "cell_type": "markdown",
   "metadata": {},
   "source": [
    "### LAB 07"
   ]
  },
  {
   "cell_type": "code",
   "execution_count": null,
   "metadata": {},
   "outputs": [],
   "source": [
    "# WAP to multiply two numbers using functions.\n",
    "def mul(x,y):\n",
    "    z=x*y\n",
    "    return(z)\n",
    "\n",
    "x=int(input(\"num1: \"))\n",
    "y=int(input(\"num2: \"))\n",
    "z=mul(x,y)\n",
    "print (z)"
   ]
  },
  {
   "cell_type": "code",
   "execution_count": null,
   "metadata": {},
   "outputs": [],
   "source": [
    "# WAP to add two numbers using functions.\n",
    "def add(x,y):\n",
    "    z=x+y\n",
    "    return(z)\n",
    "\n",
    "x=int(input(\"num1: \"))\n",
    "y=int(input(\"num2: \"))\n",
    "z=add(x,y)\n",
    "print (z)"
   ]
  },
  {
   "cell_type": "code",
   "execution_count": null,
   "metadata": {},
   "outputs": [],
   "source": [
    "# Calculate factorial of a number using function.\n",
    "def fact(n):\n",
    "    fact=1;\n",
    "    for i in range(n,0,-1):\n",
    "        fact=fact*i\n",
    "    return (fact)\n",
    "x=int(input())\n",
    "y=fact(x)\n",
    "print(y)"
   ]
  },
  {
   "cell_type": "code",
   "execution_count": null,
   "metadata": {},
   "outputs": [],
   "source": [
    "# Create sequence of Fibonacci using function.\n",
    "def fibonacci(n):\n",
    "    z=1\n",
    "    x=1\n",
    "    y=1\n",
    "    print(x, end=\" \")\n",
    "    print(y, end=\" \")\n",
    "    while(z<=n):\n",
    "        if n==1:\n",
    "            return(0)\n",
    "        elif n==2:\n",
    "            return(1)\n",
    "        else:\n",
    "            w=x+y\n",
    "            print(w,end=\" \")\n",
    "            x=y\n",
    "            y=w\n",
    "            z=z+1\n",
    "            \n",
    "x=int(input())\n",
    "fibonacci(x)"
   ]
  },
  {
   "cell_type": "code",
   "execution_count": null,
   "metadata": {},
   "outputs": [],
   "source": [
    "# WAP to swapping of two numbers using functions.\n",
    "a=int(input())\n",
    "b=int(input())\n",
    "def swap(m,n):\n",
    "    temp=m\n",
    "    m=n\n",
    "    n=temp\n",
    "    return(m,n)\n",
    "result=swap(a,b)\n",
    "print(result)"
   ]
  },
  {
   "cell_type": "code",
   "execution_count": null,
   "metadata": {},
   "outputs": [],
   "source": [
    "# WAP to find the HCF of some given numbers.\n",
    "def compute_hcf(x, y):\n",
    "    if x > y:\n",
    "        smaller = y\n",
    "    else:\n",
    "        smaller = x\n",
    "    for i in range(1, smaller+1):\n",
    "        if((x % i == 0) and (y % i == 0)):\n",
    "            hcf = i \n",
    "    return hcf\n",
    "\n",
    "num1 = int(input(\"Enter the First Number : \")) \n",
    "num2 = int(input(\"Enter the Second Number : \"))\n",
    "\n",
    "print(\"The H.C.F. is\", compute_hcf(num1, num2))"
   ]
  },
  {
   "cell_type": "code",
   "execution_count": null,
   "metadata": {},
   "outputs": [],
   "source": [
    "# WAP to find the ASCII value of the character.\n",
    "c = (input(\" Please Enter the Alphabet : \")) \n",
    "print(\"The ASCII value of '\" + c + \"' is\", ord(c))"
   ]
  },
  {
   "cell_type": "code",
   "execution_count": null,
   "metadata": {},
   "outputs": [],
   "source": [
    "# WAP that demonstrates the (built in function) mathematical functions.\n",
    "abs(-4)"
   ]
  },
  {
   "cell_type": "code",
   "execution_count": null,
   "metadata": {},
   "outputs": [],
   "source": [
    "# WAP that demonstrates the (built in function) Date & Time functions.\n",
    "import DateTime \n",
    "from DateTime import Date  \n",
    "print (\"Present date is : \",end=\"\") \n",
    "print (Date.today())"
   ]
  },
  {
   "cell_type": "code",
   "execution_count": null,
   "metadata": {},
   "outputs": [],
   "source": [
    "# WAP that demonstrates Required arguments.\n",
    "def printme(str):\n",
    "   \"This prints a passed string into this function\"\n",
    "   print (str)\n",
    "   return;\n",
    "\n",
    "printme(\"calling function first time\")\n",
    "printme(\"calling function second time\")"
   ]
  },
  {
   "cell_type": "code",
   "execution_count": null,
   "metadata": {},
   "outputs": [],
   "source": [
    "# WAP that demonstrates keyword arguments.\n",
    "def student(Firstname, Lastname):  \n",
    "     print(Firstname, Lastname)  \n",
    "                   \n",
    "student(Firstname ='student1', Lastname ='stdent1_ln')     \n",
    "student(Lastname ='student2_ln', Firstname ='Student1')"
   ]
  },
  {
   "cell_type": "code",
   "execution_count": null,
   "metadata": {},
   "outputs": [],
   "source": [
    "# WAP that demonstrates Default arguments.\n",
    "def myFun(x, y=500): \n",
    "    print(\"x: \", x) \n",
    "    print(\"y: \", y) \n",
    "  \n",
    "myFun(100)"
   ]
  },
  {
   "cell_type": "code",
   "execution_count": null,
   "metadata": {},
   "outputs": [],
   "source": [
    "# WAP that demonstrates Variable –length arguments.  \n",
    "def myFun(*yluj):  \n",
    "    for arg in yluj:  \n",
    "        print (arg) \n",
    "    \n",
    "myFun('My', 'name', 'is', 'Tushar')"
   ]
  }
 ],
 "metadata": {
  "kernelspec": {
   "display_name": "Python 3",
   "language": "python",
   "name": "python3"
  },
  "language_info": {
   "codemirror_mode": {
    "name": "ipython",
    "version": 3
   },
   "file_extension": ".py",
   "mimetype": "text/x-python",
   "name": "python",
   "nbconvert_exporter": "python",
   "pygments_lexer": "ipython3",
   "version": "3.8.5"
  }
 },
 "nbformat": 4,
 "nbformat_minor": 4
}
