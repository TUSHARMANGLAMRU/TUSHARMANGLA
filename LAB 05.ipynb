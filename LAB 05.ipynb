{
 "cells": [
  {
   "cell_type": "markdown",
   "metadata": {},
   "source": [
    "### LAB 05"
   ]
  },
  {
   "cell_type": "code",
   "execution_count": 5,
   "metadata": {},
   "outputs": [
    {
     "name": "stdout",
     "output_type": "stream",
     "text": [
      "Sum of your list is 15\n"
     ]
    }
   ],
   "source": [
    "# WAP to sum all items in a list.\n",
    "l1 = [1,2,3,4,5]\n",
    "SUM = sum(l1)\n",
    "print(\"Sum of your list is\", SUM)"
   ]
  },
  {
   "cell_type": "code",
   "execution_count": 8,
   "metadata": {},
   "outputs": [
    {
     "name": "stdout",
     "output_type": "stream",
     "text": [
      "120\n"
     ]
    }
   ],
   "source": [
    "# WAP to multiply all items in a list.\n",
    "import math\n",
    "l1 = [1,2,3,4,5]\n",
    "MULTIPLY = math.prod(l1)\n",
    "print(MULTIPLY)"
   ]
  },
  {
   "cell_type": "code",
   "execution_count": 9,
   "metadata": {},
   "outputs": [
    {
     "name": "stdout",
     "output_type": "stream",
     "text": [
      "5\n"
     ]
    }
   ],
   "source": [
    "# WAP to find largest number in a list.\n",
    "l1 = [1,2,3,4,5]\n",
    "print(max(l1))"
   ]
  },
  {
   "cell_type": "code",
   "execution_count": 10,
   "metadata": {},
   "outputs": [
    {
     "name": "stdout",
     "output_type": "stream",
     "text": [
      "1\n"
     ]
    }
   ],
   "source": [
    "# WAP to get smallest number in a list.\n",
    "l1 = [1,2,3,4,5]\n",
    "print(min(l1))"
   ]
  },
  {
   "cell_type": "code",
   "execution_count": 24,
   "metadata": {},
   "outputs": [
    {
     "name": "stdout",
     "output_type": "stream",
     "text": [
      "4\n"
     ]
    }
   ],
   "source": [
    "# WAP to count the length of a string.\n",
    "l1 = ['abc', 'xyz', 'aba', '1221']\n",
    "print(len(l1))"
   ]
  },
  {
   "cell_type": "code",
   "execution_count": 44,
   "metadata": {},
   "outputs": [
    {
     "name": "stdout",
     "output_type": "stream",
     "text": [
      "[4, 3, 2, 1]\n"
     ]
    }
   ],
   "source": [
    "# WAP to get a list, sorted in increasing order by the last element in each tuple from a given list of non-empty tuples.\n",
    "Tuple = (1,2,3,4)\n",
    "l2 = list(Tuple)\n",
    "l2.sort(reverse=True)\n",
    "print(l2)"
   ]
  },
  {
   "cell_type": "code",
   "execution_count": 32,
   "metadata": {},
   "outputs": [
    {
     "name": "stdout",
     "output_type": "stream",
     "text": [
      "[1, 2, 3, 4]\n"
     ]
    }
   ],
   "source": [
    "# WAP to remove duplicates from a list. \n",
    "X = [1,2,3,4,4,3,2,1]\n",
    "print(list(set(X)))"
   ]
  },
  {
   "cell_type": "code",
   "execution_count": 33,
   "metadata": {},
   "outputs": [
    {
     "name": "stdout",
     "output_type": "stream",
     "text": [
      "List is empty\n"
     ]
    }
   ],
   "source": [
    "# WAP to check a list is empty or not.\n",
    "l = []\n",
    "if not l:\n",
    "    print(\"List is empty\")"
   ]
  },
  {
   "cell_type": "code",
   "execution_count": 45,
   "metadata": {},
   "outputs": [
    {
     "name": "stdout",
     "output_type": "stream",
     "text": [
      "[1, 2, 3, 4, 5]\n",
      "[1, 2, 3, 4, 5]\n"
     ]
    }
   ],
   "source": [
    "# WAP to clone or copy a list.\n",
    "List = [1,2,3,4,5]\n",
    "NewList = list(List)\n",
    "print(List)\n",
    "print(NewList)"
   ]
  },
  {
   "cell_type": "code",
   "execution_count": 47,
   "metadata": {},
   "outputs": [
    {
     "name": "stdout",
     "output_type": "stream",
     "text": [
      "Enter strings =\"\"Python\", \"java\", \"cloud\", \"devops & automation\", \"artificial intelligence & machine learnig\"\n",
      "enter value of n:5\n",
      "list of words :  ['\"\"Python\",', '\"java\",', '\"cloud\",', '\"devops', 'automation\",', '\"artificial', 'intelligence', 'machine', 'learnig\"']\n"
     ]
    }
   ],
   "source": [
    "# WAP to find the list of words that are longer than n from a given list of words.  \n",
    "str = input(\"Enter strings =\")\n",
    "a = str.split(\" \")\n",
    "b = []\n",
    "n = int(input(\"enter value of n:\"))\n",
    "for i in a:\n",
    "    if (len(i)> n) :\n",
    "        b.append(i)\n",
    "print(\"list of words : \",b) "
   ]
  },
  {
   "cell_type": "code",
   "execution_count": 50,
   "metadata": {},
   "outputs": [
    {
     "name": "stdout",
     "output_type": "stream",
     "text": [
      "True\n",
      "None\n"
     ]
    }
   ],
   "source": [
    "# WAP that takes two lists and returns True if they have at least one common member.  \n",
    "def lists(l1, l2):\n",
    "     result = False\n",
    "     for x in l1:\n",
    "         for y in l2:\n",
    "             if x == y:\n",
    "                 result = True\n",
    "                 return result\n",
    "print(lists([1,2,3,4,5],[5,6,7,8]))\n",
    "print(lists([1,3,4,5],[6,7,8,9]))"
   ]
  },
  {
   "cell_type": "code",
   "execution_count": 54,
   "metadata": {},
   "outputs": [
    {
     "name": "stdout",
     "output_type": "stream",
     "text": [
      "['Green', 'White', 'Black']\n"
     ]
    }
   ],
   "source": [
    "# WAP to print a specified list after removing the 0th, 4th and 5th elements.  \n",
    "List = ['Red','Green','White','Black','Pink','Yellow']\n",
    "List = [x for (i,x) in enumerate(List) if i not in (0,4,5)]\n",
    "print(List)"
   ]
  },
  {
   "cell_type": "code",
   "execution_count": null,
   "metadata": {},
   "outputs": [],
   "source": []
  }
 ],
 "metadata": {
  "kernelspec": {
   "display_name": "Python 3",
   "language": "python",
   "name": "python3"
  },
  "language_info": {
   "codemirror_mode": {
    "name": "ipython",
    "version": 3
   },
   "file_extension": ".py",
   "mimetype": "text/x-python",
   "name": "python",
   "nbconvert_exporter": "python",
   "pygments_lexer": "ipython3",
   "version": "3.8.5"
  }
 },
 "nbformat": 4,
 "nbformat_minor": 4
}
